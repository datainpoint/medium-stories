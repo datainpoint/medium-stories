{
 "cells": [
  {
   "cell_type": "markdown",
   "id": "traditional-address",
   "metadata": {},
   "source": [
    "# Python 的資料結構\n",
    "\n",
    "> 將資料型別組織成資料結構。\n",
    "\n",
    "[數據交點](https://www.datainpoint.com) | 郭耀仁 <yaojenkuo@datainpoint.com>\n",
    "\n",
    "## 什麼是資料結構\n",
    "\n",
    "在 [Python 的資料型別](https://medium.com/datainpoint/data-types-in-python-91a63fd45cc)中我們已經認識了整數、浮點數、文字、布林與未定義值，資料型別在程式設計中所扮演的角色就像是樂高、積木、模型或拼圖等遊戲中的基本單元零件，透過結合資料型別，可以堆疊出更進階的 Python 應用，接下來我們會從資料型別邁向結構（Structures）。在電腦科學中，資料結構是電腦儲存、組織以及存取資料的機制，在 Python 中我們可以透過四種基本資料結構來儲存、組織以及存取在 [Python 的資料型別](https://medium.com/datainpoint/data-types-in-python-91a63fd45cc)所認識的資料型別。\n",
    "\n",
    "1. 串列 `list`\n",
    "2. `tuple`\n",
    "3. 字典 `dict`\n",
    "4. 集合 `set`\n",
    "\n",
    "## 以 `type()` 函數識別資料結構\n",
    "\n",
    "和資料型別的應用場景相同，常見對資料結構應用函數或者呼叫資料結構本身的方法時候，都是對應完成宣告的物件應用，而非直接對應資料結構，這是因為程式設計通常在後續會有資料記錄與運算處理的需求，並不僅止與將其印出來而已。所以我們可以運用能夠將完成宣告的物件所儲存之資料結構告知使用者的內建函數 `type()`，作用是將被應用物件的類別回傳，在 Python 中物件（Objects）是類別（Classes）的實例（Instances），而類別有分為資料型別、資料結構、函數以及特殊類別（例如自行定義類別、產生器或迭代器等進階的 Python 類別）。"
   ]
  },
  {
   "cell_type": "code",
   "execution_count": 1,
   "id": "young-start",
   "metadata": {},
   "outputs": [
    {
     "name": "stdout",
     "output_type": "stream",
     "text": [
      "<class 'list'>\n",
      "<class 'tuple'>\n",
      "<class 'dict'>\n",
      "<class 'set'>\n"
     ]
    }
   ],
   "source": [
    "primes_list = [2, 3, 5, 7, 11]\n",
    "primes_tuple = (2, 3, 5, 7, 11)\n",
    "primes_dict = {\n",
    "    \"1st\": 2,\n",
    "    \"2nd\": 3,\n",
    "    \"3rd\": 5,\n",
    "    \"4th\": 7,\n",
    "    \"5th\": 11\n",
    "}\n",
    "primes_set = {2, 3, 5, 7, 11}\n",
    "print(type(primes_list))\n",
    "print(type(primes_tuple))\n",
    "print(type(primes_dict))\n",
    "print(type(primes_set))"
   ]
  },
  {
   "cell_type": "markdown",
   "id": "assisted-ratio",
   "metadata": {},
   "source": [
    "## 串列\n",
    "\n",
    "串列 `list` 是 Python 最基礎且最為常用的資料結構，可以容納不同的資料型別與資料結構，建立的時候使用中括號 `[]` 將希望儲存的資料型別與資料結構包括起來，並將希望存放的資料型別與資料結構以逗號分隔。"
   ]
  },
  {
   "cell_type": "code",
   "execution_count": 2,
   "id": "least-denver",
   "metadata": {},
   "outputs": [
    {
     "name": "stdout",
     "output_type": "stream",
     "text": [
      "<class 'list'>\n"
     ]
    }
   ],
   "source": [
    "primes_list = [2, 3, 5, 7, 11]\n",
    "print(type(primes_list))"
   ]
  },
  {
   "cell_type": "markdown",
   "id": "distinguished-shade",
   "metadata": {},
   "source": [
    "有時候我們也使用 Python 的內建函數 `list()` 來建立串列，例如常被用來生成數列的內建函數 `range()` 其輸出是一個可以被迭代的物件（Iterable），屬於 `range` 類別，如果直接應用不會被印出所有的數字，這時可以用 `list()` 函數將它轉換為 `list` 來觀察其中包含的數字。"
   ]
  },
  {
   "cell_type": "code",
   "execution_count": 3,
   "id": "failing-latitude",
   "metadata": {},
   "outputs": [
    {
     "name": "stdout",
     "output_type": "stream",
     "text": [
      "range(0, 10)\n",
      "[0, 1, 2, 3, 4, 5, 6, 7, 8, 9]\n"
     ]
    }
   ],
   "source": [
    "integer_sequence = range(10)\n",
    "print(integer_sequence)\n",
    "print(list(integer_sequence))"
   ]
  },
  {
   "cell_type": "markdown",
   "id": "electoral-breed",
   "metadata": {},
   "source": [
    "使用串列將多筆資料型別或結構儲存於一個物件之中，就像是在進行化零為整的工作，這表示 Python 必然也能夠讓我們進行逆向工程：化整為零，化整為零的專有名稱為子集（Subset），串列的子集操作技巧可以分為兩種：\n",
    "\n",
    "1. 索引（Indexing）\n",
    "2. 切割（Slicing）\n",
    "\n",
    "利用內建函數 `len()` 可以先暸解我們想要取為子集的串列長度（亦即串列中所儲存的元素個數），進而再利用索引、切割的技法。"
   ]
  },
  {
   "cell_type": "code",
   "execution_count": 4,
   "id": "mighty-bleeding",
   "metadata": {},
   "outputs": [
    {
     "name": "stdout",
     "output_type": "stream",
     "text": [
      "5\n"
     ]
    }
   ],
   "source": [
    "primes_list = [2, 3, 5, 7, 11]\n",
    "len_primes_list = len(primes_list)\n",
    "print(len_primes_list)"
   ]
  },
  {
   "cell_type": "markdown",
   "id": "negative-helping",
   "metadata": {},
   "source": [
    "選擇串列中的資料我們使用中括號 `[]` 搭配索引值，值得注意的是索引值從左邊由 0 開始，而非由 1 開始。"
   ]
  },
  {
   "cell_type": "code",
   "execution_count": 5,
   "id": "excessive-jamaica",
   "metadata": {},
   "outputs": [
    {
     "name": "stdout",
     "output_type": "stream",
     "text": [
      "2\n",
      "3\n",
      "5\n",
      "7\n",
      "11\n"
     ]
    }
   ],
   "source": [
    "# start from left at index 0\n",
    "print(primes_list[0])\n",
    "print(primes_list[1])\n",
    "print(primes_list[2])\n",
    "print(primes_list[3])\n",
    "print(primes_list[len_primes_list - 1])"
   ]
  },
  {
   "cell_type": "markdown",
   "id": "basic-mention",
   "metadata": {},
   "source": [
    "從右邊則由 -1 開始。"
   ]
  },
  {
   "cell_type": "code",
   "execution_count": 6,
   "id": "intended-municipality",
   "metadata": {},
   "outputs": [
    {
     "name": "stdout",
     "output_type": "stream",
     "text": [
      "11\n",
      "7\n",
      "5\n",
      "3\n",
      "2\n"
     ]
    }
   ],
   "source": [
    "# start from right at index -1\n",
    "print(primes_list[-1])\n",
    "print(primes_list[-2])\n",
    "print(primes_list[-3])\n",
    "print(primes_list[-4])\n",
    "print(primes_list[-len_primes_list])"
   ]
  },
  {
   "cell_type": "markdown",
   "id": "systematic-mechanics",
   "metadata": {},
   "source": [
    "利用 [start:stop:step] 語法對串列指定要切割出來的子集，其中 stop 不會出現在最後選擇出來的結果中，例如我們希望將位於 `[0]` 、 `[1]` 、 `[2]` 的資料另外切割為一個長度為 3 的串列，要使用 `[0:3]` 而非 `[0:2]`。"
   ]
  },
  {
   "cell_type": "code",
   "execution_count": 7,
   "id": "economic-alcohol",
   "metadata": {},
   "outputs": [
    {
     "name": "stdout",
     "output_type": "stream",
     "text": [
      "[2, 3, 5]\n"
     ]
    }
   ],
   "source": [
    "print(primes_list[0:3])"
   ]
  },
  {
   "cell_type": "markdown",
   "id": "earlier-anniversary",
   "metadata": {},
   "source": [
    "使用切割的語法時， `start` 、 `stop` 與 `step` 這三個參數都有預設值， `start` 預設是 0， `stop` 預設為串列的長度， `step` 預設為 1，假如沒有指定就採預設值，像是切割出位於 `[0]` 、 `[2]` 與 `[4]` 這三個位置的資料可以簡單使用 `[::2]`。"
   ]
  },
  {
   "cell_type": "code",
   "execution_count": 8,
   "id": "prime-richardson",
   "metadata": {},
   "outputs": [
    {
     "name": "stdout",
     "output_type": "stream",
     "text": [
      "[2, 5, 11]\n"
     ]
    }
   ],
   "source": [
    "print(primes_list[::2])"
   ]
  },
  {
   "cell_type": "markdown",
   "id": "valid-gilbert",
   "metadata": {},
   "source": [
    "比較特別的 `step` 參數如果指定為 -1 可以將串列中的資料順序反轉（Reverse）。"
   ]
  },
  {
   "cell_type": "code",
   "execution_count": 9,
   "id": "compliant-prerequisite",
   "metadata": {},
   "outputs": [
    {
     "name": "stdout",
     "output_type": "stream",
     "text": [
      "[11, 7, 5, 3, 2]\n"
     ]
    }
   ],
   "source": [
    "print(primes_list[::-1])"
   ]
  },
  {
   "cell_type": "markdown",
   "id": "maritime-matrix",
   "metadata": {},
   "source": [
    "在繼續介紹串列其他的操作之前，我們要複習 Python 的函數使用方式。在 Python 中使用函數有兩種機制，一是對資料型別或資料結構應用函數；二是使用綁定於資料型別或資料結構的方法，這時要注意，我們不再稱呼「函數」，而是改稱「方法」，而函數與方法在使用上有著值得注意的兩點差別，一是使用的語法；二是更動的機制。使用的語法差別在於以函數以自身名稱作為主詞，方法則以物件名稱作為主詞。\n",
    "\n",
    "```python\n",
    "function_name(object_name, args) # apply function on an object\n",
    "object_name.method_name(args)    # apply method of an object\n",
    "```\n",
    "\n",
    "更動的機制差別在於以回傳值型態輸出更動後的結果，或者直接更動資料型別與資料結構而沒有輸出。這樣的差異能夠用下列操作串列的方法來做說明。\n",
    "\n",
    "## 透過方法操作串列\n",
    "\n",
    "除了索引與切割，常用的串列操作還有新增、刪除與排序資料，新增可以使用串列的 `append()` 方法將資料加入到串列末端，這個方法採用直接更動沒有輸出的機制。"
   ]
  },
  {
   "cell_type": "code",
   "execution_count": 10,
   "id": "former-snapshot",
   "metadata": {},
   "outputs": [
    {
     "name": "stdout",
     "output_type": "stream",
     "text": [
      "[2, 3, 5, 7, 11, 13]\n"
     ]
    }
   ],
   "source": [
    "primes_list = [2, 3, 5, 7, 11]\n",
    "primes_list.append(13)\n",
    "print(primes_list)  # 13 was appended to primes_list"
   ]
  },
  {
   "cell_type": "markdown",
   "id": "every-surfing",
   "metadata": {},
   "source": [
    "刪除可以使用串列的 `pop()` 方法將串列末端的資料拋出，這個方法同時採用回傳值與直接更動的機制。"
   ]
  },
  {
   "cell_type": "code",
   "execution_count": 11,
   "id": "resident-garlic",
   "metadata": {},
   "outputs": [
    {
     "name": "stdout",
     "output_type": "stream",
     "text": [
      "[2, 3, 5, 7, 11]\n"
     ]
    }
   ],
   "source": [
    "primes_list.pop()  # 13 is popped out and returned\n",
    "print(primes_list) # 13 was deleted"
   ]
  },
  {
   "cell_type": "markdown",
   "id": "caring-option",
   "metadata": {},
   "source": [
    "排序可以使用串列的 `sort()` 方法將串列的資料以遞增排序，亦可以指定參數 `reverse=True` 以遞減排序，這個方法採用直接更動沒有輸出的機制。"
   ]
  },
  {
   "cell_type": "code",
   "execution_count": 12,
   "id": "growing-category",
   "metadata": {},
   "outputs": [
    {
     "name": "stdout",
     "output_type": "stream",
     "text": [
      "[11, 7, 5, 3, 2]\n",
      "[2, 3, 5, 7, 11]\n"
     ]
    }
   ],
   "source": [
    "primes_list = [2, 3, 5, 7, 11]\n",
    "primes_list.sort(reverse=True)\n",
    "print(primes_list) # primes_list is now sorted with descending order\n",
    "primes_list.sort()\n",
    "print(primes_list) # primes_list is now sorted with ascending order"
   ]
  },
  {
   "cell_type": "markdown",
   "id": "owned-charm",
   "metadata": {},
   "source": [
    "## Tuples\n",
    "\n",
    "`tuple` 是 Python 另一常用的資料結構，多數的特性都與串列相同，例如在索引與切割的部分與串列操作語法完全相同。在建立的時候使用小括號 `()` 將希望儲存的資訊包括起來，並將希望存放的資料型別與資料結構以逗號分隔。"
   ]
  },
  {
   "cell_type": "code",
   "execution_count": 13,
   "id": "varied-novel",
   "metadata": {},
   "outputs": [
    {
     "name": "stdout",
     "output_type": "stream",
     "text": [
      "<class 'tuple'>\n"
     ]
    }
   ],
   "source": [
    "primes_tuple = (2, 3, 5, 7, 11)\n",
    "print(type(primes_tuple))"
   ]
  },
  {
   "cell_type": "markdown",
   "id": "smooth-eleven",
   "metadata": {},
   "source": [
    "`tuple` 與串列最大的差異在於 `tuple` 是不可變動（Immutable）的資料結構，不具備任何包含新增、刪除與排序資料的操作，這樣的特性讓 tuple 被設計在函數的彈性參數與預設多個回傳值之中。自行定義函數時如果希望參數為不定個數，例如一個能夠進行兩個數字、三個數字甚至 n 個數字相加的函數，彈性參數 `*args` 在函數作用域中其實就是一個 `tuple`。"
   ]
  },
  {
   "cell_type": "code",
   "execution_count": 14,
   "id": "strong-instrumentation",
   "metadata": {},
   "outputs": [
    {
     "name": "stdout",
     "output_type": "stream",
     "text": [
      "<class 'tuple'>\n",
      "<class 'tuple'>\n"
     ]
    },
    {
     "data": {
      "text/plain": [
       "198"
      ]
     },
     "execution_count": 14,
     "metadata": {},
     "output_type": "execute_result"
    }
   ],
   "source": [
    "def add_n_numbers(*args):\n",
    "    print(type(args))\n",
    "    return sum(args)\n",
    "add_n_numbers(55, 66)\n",
    "add_n_numbers(55, 66, 77)"
   ]
  },
  {
   "cell_type": "markdown",
   "id": "wound-cover",
   "metadata": {},
   "source": [
    "自行定義函數時如果希望回傳值有多個，例如一個能夠將一個英文單字的全大寫、全小寫外型都回傳的函數，可以在 `return` 後以逗號區隔兩個回傳值，函數其實就是回傳一個 `tuple`。"
   ]
  },
  {
   "cell_type": "code",
   "execution_count": 15,
   "id": "possible-neighborhood",
   "metadata": {},
   "outputs": [
    {
     "name": "stdout",
     "output_type": "stream",
     "text": [
      "<class 'tuple'>\n"
     ]
    }
   ],
   "source": [
    "def upper_lower_cases(x):\n",
    "    upper_out = x.upper()\n",
    "    lower_out = x.lower()\n",
    "    return upper_out, lower_out\n",
    "multiple_outputs = upper_lower_cases(\"Luke Skywalker\")\n",
    "print(type(multiple_outputs))"
   ]
  },
  {
   "cell_type": "markdown",
   "id": "formed-thanks",
   "metadata": {},
   "source": [
    "## 字典\n",
    "\n",
    "字典 `dict` 顧名思義就是 dictionary 的縮寫，這種資料結構除了儲存資料（Values）以外，還另外利用鍵（Keys）來對資料作索引，這樣的特性讓我們在選擇時可以使用資料的鍵，如此一來在面對長度很大的資料時，不需要耗時計算資料所在的位置。建立的時候使用大括號 `{}` 將希望儲存的資料包括起來，然後分別將「鍵」與「資料」以 Keys 及 Values 記錄。"
   ]
  },
  {
   "cell_type": "code",
   "execution_count": 16,
   "id": "manufactured-conditioning",
   "metadata": {},
   "outputs": [
    {
     "name": "stdout",
     "output_type": "stream",
     "text": [
      "<class 'dict'>\n"
     ]
    }
   ],
   "source": [
    "primes_dict = {\n",
    "    \"1st\": 2,\n",
    "    \"2nd\": 3,\n",
    "    \"3rd\": 5,\n",
    "    \"4th\": 7,\n",
    "    \"5th\": 11\n",
    "}\n",
    "print(type(primes_dict))"
   ]
  },
  {
   "cell_type": "markdown",
   "id": "alternate-extra",
   "metadata": {},
   "source": [
    "選擇dict中的資料我們使用中括號 `[]` 搭配鍵。"
   ]
  },
  {
   "cell_type": "code",
   "execution_count": 17,
   "id": "adequate-ready",
   "metadata": {},
   "outputs": [
    {
     "name": "stdout",
     "output_type": "stream",
     "text": [
      "2\n",
      "3\n",
      "5\n",
      "7\n",
      "11\n"
     ]
    }
   ],
   "source": [
    "print(primes_dict[\"1st\"])\n",
    "print(primes_dict[\"2nd\"])\n",
    "print(primes_dict[\"3rd\"])\n",
    "print(primes_dict[\"4th\"])\n",
    "print(primes_dict[\"5th\"])"
   ]
  },
  {
   "cell_type": "markdown",
   "id": "aboriginal-gateway",
   "metadata": {},
   "source": [
    "新增可以直接宣告 `dict_to_be_added[\"Key\"] = Value`。"
   ]
  },
  {
   "cell_type": "code",
   "execution_count": 18,
   "id": "instructional-comparative",
   "metadata": {},
   "outputs": [
    {
     "name": "stdout",
     "output_type": "stream",
     "text": [
      "{'1st': 2, '2nd': 3, '3rd': 5, '4th': 7, '5th': 11, '6th': 13}\n"
     ]
    }
   ],
   "source": [
    "primes_dict[\"6th\"] = 13\n",
    "print(primes_dict)"
   ]
  },
  {
   "cell_type": "markdown",
   "id": "thrown-novel",
   "metadata": {},
   "source": [
    "刪除可以使用字典的 `pop(Key, None)` 方法將指定的「鍵」與「資料」組合拋出，假如找不到就拋出 None。"
   ]
  },
  {
   "cell_type": "code",
   "execution_count": 19,
   "id": "higher-secondary",
   "metadata": {},
   "outputs": [
    {
     "name": "stdout",
     "output_type": "stream",
     "text": [
      "{'1st': 2, '2nd': 3, '3rd': 5, '4th': 7, '5th': 11}\n"
     ]
    }
   ],
   "source": [
    "the_popped_value = primes_dict.pop(\"6th\", None)\n",
    "print(primes_dict)"
   ]
  },
  {
   "cell_type": "markdown",
   "id": "centered-intermediate",
   "metadata": {},
   "source": [
    "使用字典的 `keys()`、 `values()` 與 `items()` 方法，可以分別取出字典中的所有的鍵（Keys）、所有資料（Values）以及「鍵」與「資料」組合（Items）。"
   ]
  },
  {
   "cell_type": "code",
   "execution_count": 20,
   "id": "hindu-nation",
   "metadata": {},
   "outputs": [
    {
     "name": "stdout",
     "output_type": "stream",
     "text": [
      "dict_keys(['1st', '2nd', '3rd', '4th', '5th'])\n",
      "dict_values([2, 3, 5, 7, 11])\n",
      "dict_items([('1st', 2), ('2nd', 3), ('3rd', 5), ('4th', 7), ('5th', 11)])\n"
     ]
    }
   ],
   "source": [
    "print(primes_dict.keys())\n",
    "print(primes_dict.values())\n",
    "print(primes_dict.items())"
   ]
  },
  {
   "cell_type": "markdown",
   "id": "ceramic-southeast",
   "metadata": {},
   "source": [
    "## 集合\n",
    "\n",
    "集合 `set` 是 Python 中用來處理「集合運算」的資料結構，在建立的時候使用大括號 `{}` 將希望儲存的資訊包括起來，並將希望存放的資料型別與資料結構以逗號分隔。"
   ]
  },
  {
   "cell_type": "code",
   "execution_count": 21,
   "id": "metric-plant",
   "metadata": {},
   "outputs": [
    {
     "name": "stdout",
     "output_type": "stream",
     "text": [
      "<class 'set'>\n"
     ]
    }
   ],
   "source": [
    "primes_set = {2, 3, 5, 7, 11}\n",
    "print(type(primes_set))"
   ]
  },
  {
   "cell_type": "markdown",
   "id": "understood-inspector",
   "metadata": {},
   "source": [
    "這個資料結構用來對應數學中的集合相關定理和操作，所以其中只儲存獨一的資料，若輸入多筆重複資料，則會記錄一筆獨一值，並且是一種「無序」的結構，儲存在其中的資料跟建立時的順序性沒有關聯，可能會在操作後更動順序，但這並無大礙，因為集合並不支援索引，無序這個特性也不會影響集合相關定理和操作。基礎的集合操作有四個：\n",
    "\n",
    "1. 交集（Intersection）\n",
    "2. 聯集（Union）\n",
    "3. 差集（Difference）\n",
    "4. 對稱差集（Symmetric difference）\n",
    "\n",
    "上述這四個基礎集合操作都能夠透過呼叫集合的方法實作，其中只有差集沒有交換律（如同減法或者除法一般），另外三者都具有交換律（如同加法或者乘法一般），這些方法都採用以回傳值輸出的機制。"
   ]
  },
  {
   "cell_type": "markdown",
   "id": "finished-generic",
   "metadata": {},
   "source": [
    "primes_set = {2, 3, 5, 7, 11}\n",
    "odds_set = {1, 3, 5, 7, 9}\n",
    "print(primes_set.intersection(odds_set))\n",
    "print(primes_set.union(odds_set))\n",
    "print(primes_set.difference(odds_set))\n",
    "print(odds_set.difference(primes_set))\n",
    "print(primes_set.symmetric_difference(odds_set))"
   ]
  },
  {
   "cell_type": "markdown",
   "id": "polar-phrase",
   "metadata": {},
   "source": [
    "在認識了四種基礎資料結構之後，Python 的資料結構這篇文章來到尾聲。喜歡這篇文章嗎？訂閱數據交點 <https://datainpoint.substack.com/welcome> 可以收到我的電子報😻\n",
    "\n",
    "## 延伸閱讀\n",
    "\n",
    "- <https://docs.python.org/3/tutorial/datastructures.html>"
   ]
  }
 ],
 "metadata": {
  "kernelspec": {
   "display_name": "Python 3",
   "language": "python",
   "name": "python3"
  },
  "language_info": {
   "codemirror_mode": {
    "name": "ipython",
    "version": 3
   },
   "file_extension": ".py",
   "mimetype": "text/x-python",
   "name": "python",
   "nbconvert_exporter": "python",
   "pygments_lexer": "ipython3",
   "version": "3.8.5"
  }
 },
 "nbformat": 4,
 "nbformat_minor": 5
}
